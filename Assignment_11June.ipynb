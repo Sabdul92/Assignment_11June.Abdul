{
 "cells": [
  {
   "cell_type": "code",
   "execution_count": null,
   "id": "5605e279-43a8-425d-8952-e8238edc8ab4",
   "metadata": {},
   "outputs": [],
   "source": [
    "Q.1) What is a lambda function in Python, and how does it differ from a regular function?\n",
    "Ans:- A lambda function is an anonymous function (i.e., defined without a name) that can take any number of arguments but, \n",
    "unlike normal functions, evaluates and returns only one expression. \n",
    "Regular functions created using function declarations or expressions are constructible and callable. \n",
    "Since regular functions are constructible, they can be called using the new keyword. However, the arrow functions are only callable\n",
    "and not constructible, i.e arrow functions can never be used as constructor functions."
   ]
  },
  {
   "cell_type": "code",
   "execution_count": null,
   "id": "e08e61e8-fe96-4a79-bbf8-b82c6248e047",
   "metadata": {},
   "outputs": [],
   "source": [
    "Q.2) Can a lambda function in Python have multiple arguments? If yes, how can you define and use them?\n",
    "\n",
    "The lambda function can take many arguments but can return only one expression. Here the expression is nothing but the result \n",
    "returned by the lambda function. "
   ]
  },
  {
   "cell_type": "code",
   "execution_count": null,
   "id": "9c095364-da3b-45a0-886b-60ddd19a053f",
   "metadata": {},
   "outputs": [],
   "source": [
    "Q.3) How are lambda functions typically used in Python? Provide an example use case.\n",
    "\n",
    "Ans:- In Python, we generally use Lambda Functions as an argument to a higher-order function (a function that takes in other functions\n",
    "as arguments). For Example, These are used together with built-in functions like filter(), map(), and reduce(), etc,"
   ]
  },
  {
   "cell_type": "code",
   "execution_count": null,
   "id": "4b7173e2-9209-45f5-bcbb-dcc70dc29be1",
   "metadata": {},
   "outputs": [],
   "source": [
    "Q.4) What are the advantages and limitations of lambda functions compared to regular functions in Python?\n",
    "\n",
    "Ans:- The pros and cons of lambda :- They can be immediately passed around (no variable needed) They can only have a single line of code within them. \n",
    "They return automatically. They can't have a docstring and they don't have a name."
   ]
  },
  {
   "cell_type": "code",
   "execution_count": null,
   "id": "24feb0b0-d9f9-44ee-95cc-16b2caba294e",
   "metadata": {},
   "outputs": [],
   "source": [
    "5. Are lambda functions in Python able to access variables defined outside of their own scope? Explain with an example.\n",
    "\n",
    "Ans:- In Python You can access such variables inside and outside of a function, as they have global scope\n",
    "def f(x):\n",
    "    return x * 2\n",
    "\n",
    "f(3)\n",
    ">> 6"
   ]
  },
  {
   "cell_type": "code",
   "execution_count": 1,
   "id": "f610f628-62a8-48dc-ae90-217b58cd45df",
   "metadata": {},
   "outputs": [
    {
     "name": "stdout",
     "output_type": "stream",
     "text": [
      "25\n"
     ]
    }
   ],
   "source": [
    "Q6) Write a lambda function to calculate the square of a given number.\n",
    "\n",
    "Ans:-\n",
    "square = lambda x: x ** 2\n",
    "print(square(5))"
   ]
  },
  {
   "cell_type": "code",
   "execution_count": 3,
   "id": "53f0dd78-3afd-4ca0-9797-ff7210f79ae4",
   "metadata": {},
   "outputs": [
    {
     "name": "stdout",
     "output_type": "stream",
     "text": [
      "81\n"
     ]
    }
   ],
   "source": [
    "Q.7) Create a lambda function to find the maximum value in a list of integers.\n",
    "\n",
    "Ans:-\n",
    "max_num = lambda x,y: x if x > y else y\n",
    "print(max_num(54,81))"
   ]
  },
  {
   "cell_type": "code",
   "execution_count": 4,
   "id": "d8ff6d52-6b4e-408a-bfac-32ad64728ef1",
   "metadata": {},
   "outputs": [
    {
     "name": "stdout",
     "output_type": "stream",
     "text": [
      "2\n",
      "4\n",
      "6\n",
      "8\n",
      "10\n"
     ]
    }
   ],
   "source": [
    "Q.8) Implement a lambda function to filter out all the even numbers from a list of integers.\n",
    "\n",
    "list1 = [1,2,3,4,5,6,7,8,9,10]\n",
    "\n",
    "for num in list1 :\n",
    "    if num %2 ==0:\n",
    "        print(num)"
   ]
  },
  {
   "cell_type": "code",
   "execution_count": 5,
   "id": "c64eec50-f913-4ada-be45-a1b0a88016d6",
   "metadata": {},
   "outputs": [
    {
     "name": "stdout",
     "output_type": "stream",
     "text": [
      "G\n",
      "o\n",
      "o\n",
      "d\n",
      " \n",
      "M\n",
      "o\n",
      "r\n",
      "n\n",
      "i\n",
      "n\n",
      "g\n"
     ]
    }
   ],
   "source": [
    "Q.9) Write a lambda function to sort a list of strings in ascending order based on the length of each string.\n",
    "\n",
    "for letter in 'Good Morning' :\n",
    "    print(letter)"
   ]
  },
  {
   "cell_type": "code",
   "execution_count": 9,
   "id": "e07dea8e-6073-427a-a040-24ee427eaace",
   "metadata": {},
   "outputs": [
    {
     "name": "stdout",
     "output_type": "stream",
     "text": [
      "{'Canada', 'Germany'}\n"
     ]
    }
   ],
   "source": [
    "Q.10) Create a lambda function that takes two lists as input and returns a new list containing the\n",
    "common elements between the two lists.\n",
    "\n",
    "Ans:- \n",
    "\n",
    "list1 = {\"uk\", \"usa\", \"Canada\",\"uae\", \"Germany\"}\n",
    "list2 = { \"Kar\", \"Canada\",\"MH\", \"UP\", \"Germany\"}\n",
    "\n",
    "list1.intersection_update(list2)\n",
    "print(list1)"
   ]
  },
  {
   "cell_type": "code",
   "execution_count": 10,
   "id": "5899fb35-4acb-4bf2-be69-81c66623f67d",
   "metadata": {},
   "outputs": [
    {
     "name": "stdout",
     "output_type": "stream",
     "text": [
      "15\n"
     ]
    }
   ],
   "source": [
    "Q.11) Write a recursive function to calculate the factorial of a given positive integer.\n",
    "\n",
    "Ans:-\n",
    "#Recursion\n",
    "def rec_sum(n):\n",
    "    if n ==1:\n",
    "        return 1\n",
    "    else:\n",
    "        return n + rec_sum(n-1)\n",
    "\n",
    "print(rec_sum(5))"
   ]
  },
  {
   "cell_type": "code",
   "execution_count": 11,
   "id": "348ba176-29e3-4ffb-bca3-12da86458e0a",
   "metadata": {},
   "outputs": [
    {
     "name": "stdout",
     "output_type": "stream",
     "text": [
      "0\n",
      "1\n",
      "1\n",
      "2\n",
      "3\n",
      "5\n"
     ]
    }
   ],
   "source": [
    "Q.12) Implement a recursive function to compute the nth Fibonacci number.\n",
    "\n",
    "# 0th fibonnaci no.is 0\n",
    "# 1th fibonnaci no.is 1\n",
    "# 2th fibonnaci no.is 1\n",
    "# 3th fibonnaci no.is 2\n",
    "# 4th fibonnaci no.is 3\n",
    "# 5th fibonnaci no.is 5\n",
    "# 6th fibonnaci no.is 8\n",
    "\n",
    "def print_fibonnaci(n) :\n",
    "    a, b = 0, 1\n",
    "    for i in range (n) :\n",
    "        print(a)\n",
    "        a, b  = b , a + b\n",
    "        \n",
    "print_fibonnaci(6)"
   ]
  },
  {
   "cell_type": "code",
   "execution_count": 13,
   "id": "18bd0bb4-8875-4a5a-b093-20fc541e6cd1",
   "metadata": {},
   "outputs": [
    {
     "name": "stdout",
     "output_type": "stream",
     "text": [
      "21\n"
     ]
    }
   ],
   "source": [
    "Q.13) Create a recursive function to find the sum of all the elements in a given list.\n",
    "\n",
    "Ans:- \n",
    "def recursion_sum(n):\n",
    "    if n == 1:\n",
    "        return 1\n",
    "    else:\n",
    "        return n + recursion_sum(n-1)\n",
    "    \n",
    "print(recursion_sum(6))"
   ]
  },
  {
   "cell_type": "code",
   "execution_count": null,
   "id": "6873019a-fd6d-46d0-8366-a4ccd8bdbf20",
   "metadata": {},
   "outputs": [],
   "source": [
    "Q.14) Write a recursive function to determine whether a given string is a palindrome.\n",
    "\n",
    "Ans:-\n",
    "\n",
    "Input : malayalam\n",
    "Output : Yes\n",
    "Reverse of malayalam is also\n",
    "malayalam.\n",
    "\n",
    "Input : max\n",
    "Output : No\n",
    "Reverse of max is not max. "
   ]
  },
  {
   "cell_type": "code",
   "execution_count": null,
   "id": "f3f1228a-6f98-4628-b6a1-0a18274a267d",
   "metadata": {},
   "outputs": [],
   "source": [
    "Q.15) Implement a recursive function to find the greatest common divisor (GCD) of two positive integers.\n",
    "\n",
    "Ans:- \n",
    "\n",
    "def gcd(x , y):\n",
    "    if y == 0:\n",
    "        return x\n",
    "    else:\n",
    "        return (y, x % y)\n",
    "    num_one = int(input('Enter a value for x: '))\n",
    "num_two = int(input('Enter a value for y: '))\n",
    "if num_two == 0:\n",
    "    print(num_one)\n",
    "else:\n",
    "    print(gcd(num_two))"
   ]
  }
 ],
 "metadata": {
  "kernelspec": {
   "display_name": "Python 3 (ipykernel)",
   "language": "python",
   "name": "python3"
  },
  "language_info": {
   "codemirror_mode": {
    "name": "ipython",
    "version": 3
   },
   "file_extension": ".py",
   "mimetype": "text/x-python",
   "name": "python",
   "nbconvert_exporter": "python",
   "pygments_lexer": "ipython3",
   "version": "3.10.6"
  }
 },
 "nbformat": 4,
 "nbformat_minor": 5
}
